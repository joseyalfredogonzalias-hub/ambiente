{
  "cells": [
    {
      "cell_type": "markdown",
      "metadata": {},
      "source": [
        "# 🌍 Análisis de Datos Ambientales WDPA (Áreas Protegidas)\n",
        "**Autor:** José Gonzalías Millán  \n",
        "**Fecha:** 2025-10-19\n\n",
        "Este notebook analiza los datos de áreas protegidas globales (WDPA), realizando un proceso de limpieza, selección de columnas relevantes y visualización de resultados."
      ]
    },
    {
      "cell_type": "markdown",
      "metadata": {},
      "source": [
        "## 🧰 Importación de librerías\n",
        "Se importan las librerías necesarias para la manipulación de datos y la generación de visualizaciones."
      ]
    },
    {
      "cell_type": "code",
      "execution_count": null,
      "metadata": {},
      "outputs": [],
      "source": [
        "import pandas as pd\n",
        "import zipfile\n",
        "import matplotlib.pyplot as plt\n",
        "import seaborn as sns\n",
        "import os"
      ]
    },
    {
      "cell_type": "markdown",
      "metadata": {},
      "source": [
        "## 📦 Extracción del archivo ZIP\n",
        "Se descomprime el archivo ZIP que contiene los datos de la WDPA para poder acceder al CSV principal."
      ]
    },
    {
      "cell_type": "code",
      "execution_count": null,
      "metadata": {},
      "outputs": [],
      "source": [
        "zip_file_path = 'WDPA_WDOECM_Oct2025_Public_all_csv (1).zip'\n",
        "with zipfile.ZipFile(zip_file_path, 'r') as zip_ref:\n",
        "    csv_file_name = zip_ref.namelist()[0]\n",
        "    zip_ref.extractall()\n",
        "print(f'Archivo extraído: {csv_file_name}')"
      ]
    },
    {
      "cell_type": "markdown",
      "metadata": {},
      "source": [
        "## 🧹 Limpieza del dataset principal\n",
        "Seleccionamos las columnas más relevantes y verificamos los valores faltantes."
      ]
    },
    {
      "cell_type": "code",
      "execution_count": null,
      "metadata": {},
      "outputs": [],
      "source": [
        "wdpa_data = pd.read_csv(csv_file_name)\n",
        "required_columns = ['WDPAID', 'NAME', 'DESIG_ENG', 'IUCN_CAT', 'MARINE', 'REP_AREA', 'GIS_AREA', 'STATUS', 'STATUS_YR', 'GOV_TYPE', 'OWN_TYPE', 'MANG_AUTH', 'PARENT_ISO3', 'ISO3']\n",
        "missing_columns = [col for col in required_columns if col not in wdpa_data.columns]\n",
        "if missing_columns:\n",
        "    print(f'Advertencia: faltan columnas {missing_columns}')\n",
        "    wdpa_cleaned = wdpa_data[[col for col in required_columns if col in wdpa_data.columns]]\n",
        "else:\n",
        "    wdpa_cleaned = wdpa_data[required_columns]\n",
        "display(wdpa_cleaned.head())\n",
        "display(wdpa_cleaned.isnull().sum())\n",
        "wdpa_cleaned.to_csv('WDPA_cleaned_dataset.csv', index=False)\n",
        "print('Dataset limpio guardado como WDPA_cleaned_dataset.csv')"
      ]
    },
    {
      "cell_type": "markdown",
      "metadata": {},
      "source": [
        "## 📂 Limpieza del dataset secundario\n",
        "Ahora limpiamos el archivo de fuentes secundarias `WDPA_sources_Oct2025.csv`, que contiene información complementaria sobre las áreas protegidas."
      ]
    },
    {
      "cell_type": "code",
      "execution_count": null,
      "metadata": {},
      "outputs": [],
      "source": [
        "archivo = 'WDPA_sources_Oct2025.csv'\n",
        "datos = pd.read_csv(archivo)\n",
        "datos_limpios = datos[['metadataid', 'data_title', 'resp_party', 'year', 'update_yr', 'ref_system', 'scale', 'lineage', 'citation', 'disclaimer', 'language', 'verifier']]\n",
        "display(datos_limpios.head())\n",
        "display(datos_limpios.isnull().sum())\n",
        "datos_limpios.to_csv('WDPA_dataset_limpio.csv', index=False)\n",
        "print('Dataset limpio guardado como WDPA_dataset_limpio.csv')"
      ]
    },
    {
      "cell_type": "markdown",
      "metadata": {},
      "source": [
        "## 📊 Visualización de datos\n",
        "Se crean gráficos descriptivos para observar tendencias en la creación de áreas protegidas y las entidades responsables."
      ]
    },
    {
      "cell_type": "code",
      "execution_count": null,
      "metadata": {},
      "outputs": [],
      "source": [
        "plt.figure(figsize=(12,6))\n",
        "sns.countplot(data=datos_limpios, x='year', palette='viridis')\n",
        "plt.title('Número de Áreas Protegidas por Año de Creación', fontsize=16)\n",
        "plt.xlabel('Año de Creación')\n",
        "plt.ylabel('Número de Áreas Protegidas')\n",
        "plt.xticks(rotation=90)\n",
        "plt.tight_layout()\n",
        "plt.show()"
      ]
    },
    {
      "cell_type": "code",
      "execution_count": null,
      "metadata": {},
      "outputs": [],
      "source": [
        "plt.figure(figsize=(12,8))\n",
        "sns.countplot(data=datos_limpios, y='resp_party', palette='muted', order=datos_limpios['resp_party'].value_counts().index[:10])\n",
        "plt.title('Áreas Protegidas por Entidad Responsable', fontsize=16)\n",
        "plt.xlabel('Número de Áreas Protegidas')\n",
        "plt.ylabel('Entidad Responsable')\n",
        "plt.tight_layout()\n",
        "plt.show()"
      ]
    },
    {
      "cell_type": "markdown",
      "metadata": {},
      "source": [
        "## 🧠 Conclusiones\n",
        "- Existen variaciones importantes en la creación de áreas protegidas a lo largo de los años.\n",
        "- Algunas entidades son responsables de un número significativamente mayor de áreas.\n",
        "- La limpieza de datos permitió estructurar un dataset más manejable y útil para futuros análisis.\n",
        "\n",
        "✅ *Análisis finalizado correctamente.*"
      ]
    }
  ],
  "metadata": {
    "kernelspec": {
      "display_name": "Python 3",
      "language": "python",
      "name": "python3"
    },
    "language_info": {
      "name": "python",
      "version": "3.x"
    }
  },
  "nbformat": 4,
  "nbformat_minor": 5
}